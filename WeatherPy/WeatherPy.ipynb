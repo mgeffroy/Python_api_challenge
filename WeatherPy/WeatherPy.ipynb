{
 "cells": [
  {
   "cell_type": "code",
   "execution_count": 1,
   "metadata": {},
   "outputs": [],
   "source": [
    "# Import dependencies and Setup\n",
    "import matplotlib.pyplot as plt\n",
    "import csv\n",
    "import pandas as pd\n",
    "import numpy as np\n",
    "import requests\n",
    "import time\n",
    "from scipy.stats import linregress\n",
    "from pprint import pprint\n",
    "\n",
    "# Import API key\n",
    "from api_keys import w_key\n",
    "\n",
    "# Incorporated citipy to determine city based on latitude and longitude\n",
    "from citipy import citipy\n",
    "\n",
    "# Output File (CSV)\n",
    "output_data_file = \"output/cities.csv\"\n",
    "\n",
    "# Range of latitudes and longitudes\n",
    "lat_range = (-90, 90)\n",
    "lng_range = (-180, 180)\n"
   ]
  },
  {
   "cell_type": "markdown",
   "metadata": {},
   "source": [
    "# Generate cities list"
   ]
  },
  {
   "cell_type": "code",
   "execution_count": 2,
   "metadata": {},
   "outputs": [
    {
     "data": {
      "text/plain": [
       "603"
      ]
     },
     "execution_count": 2,
     "metadata": {},
     "output_type": "execute_result"
    }
   ],
   "source": [
    "# List for holding lat_lngs and cities\n",
    "lat_lngs = []\n",
    "cities = []\n",
    "\n",
    "# Create a set of random lat and lng combinations\n",
    "lats = np.random.uniform(lat_range[0], lat_range[1], size=1500)\n",
    "lngs = np.random.uniform(lng_range[0], lng_range[1], size=1500)\n",
    "lat_lngs = zip(lats, lngs)\n",
    "\n",
    "# Identify nearest city for each lat, lng combination\n",
    "for lat_lng in lat_lngs:\n",
    "    city = citipy.nearest_city(lat_lng[0], lat_lng[1]).city_name\n",
    "    \n",
    "    # If the city is unique, then add it to a our cities list\n",
    "    if city not in cities:\n",
    "        cities.append(city)\n",
    "\n",
    "# Print the city count to confirm sufficient count\n",
    "len(cities)"
   ]
  },
  {
   "cell_type": "code",
   "execution_count": 3,
   "metadata": {},
   "outputs": [],
   "source": [
    "#Get API url \n",
    "url = \"http://api.openweathermap.org/data/2.5/weather?q=\"\n",
    "    \n",
    "    \n",
    "#See list of cities to get information and lists\n",
    "#cities \n",
    "\n",
    "#Chose Cape Town to see other columns\n",
    "#response = requests.get(url + \"cape town\" + \"&appid=\" + w_key)\n",
    "#w_city_d = response.json()\n",
    "#pprint(w_city_d)"
   ]
  },
  {
   "cell_type": "markdown",
   "metadata": {},
   "source": [
    "# Perform API Calls\n",
    "\n",
    "Perform a weather check on each city using a series of successive API calls. Include a print log of each city as it's being processed (with the city number and city name)."
   ]
  },
  {
   "cell_type": "code",
   "execution_count": 4,
   "metadata": {},
   "outputs": [],
   "source": [
    "#Temperature is in Kelvins so change the unit of measurement to F°\n",
    "units = \"imperial\"\n",
    "#Create lists for variables needed\n",
    "all_cities = []\n",
    "lat=[]\n",
    "lng=[]\n",
    "temp_max=[]\n",
    "humidity=[]\n",
    "cloudiness=[]\n",
    "wind_speed=[]\n",
    "country=[]\n",
    "date=[]\n",
    "\n",
    "#Create a counter for sucessive API calls\n",
    "city_count = 0\n",
    "set_count = 1"
   ]
  },
  {
   "cell_type": "code",
   "execution_count": null,
   "metadata": {},
   "outputs": [
    {
     "name": "stdout",
     "output_type": "stream",
     "text": [
      "Beginning Data Retrieval\n",
      "------------------------------\n",
      "Processing Record 1 of 1|keti bandar\n",
      "Processing Record 2 of 1|porto velho\n",
      "Processing Record 3 of 1|butaritari\n",
      "Processing Record 4 of 1|leningradskiy\n",
      "Processing Record 5 of 1|port lincoln\n",
      "City not found. Skipping...\n",
      "Processing Record 7 of 1|albany\n",
      "Processing Record 8 of 1|marzuq\n",
      "Processing Record 9 of 1|mount isa\n",
      "Processing Record 10 of 1|ushuaia\n",
      "Processing Record 11 of 1|georgetown\n",
      "Processing Record 12 of 1|faanui\n",
      "Processing Record 13 of 1|ellisras\n",
      "Processing Record 14 of 1|puerto ayora\n",
      "Processing Record 15 of 1|saldanha\n",
      "Processing Record 16 of 1|coos bay\n",
      "Processing Record 17 of 1|rikitea\n",
      "Processing Record 18 of 1|luderitz\n",
      "Processing Record 19 of 1|cape town\n",
      "Processing Record 20 of 1|hobart\n",
      "Processing Record 21 of 1|carberry\n",
      "Processing Record 22 of 1|tinde\n",
      "Processing Record 23 of 1|jiangyou\n",
      "Processing Record 24 of 1|upernavik\n",
      "Processing Record 25 of 1|mount gambier\n",
      "Processing Record 26 of 1|shimoda\n",
      "Processing Record 27 of 1|barrow\n",
      "Processing Record 28 of 1|itaberai\n",
      "Processing Record 29 of 1|coquimbo\n",
      "Processing Record 30 of 1|nhamunda\n",
      "Processing Record 31 of 1|hermanus\n",
      "Processing Record 32 of 1|te anau\n",
      "Processing Record 33 of 1|bluff\n",
      "Processing Record 34 of 1|mataura\n",
      "Processing Record 35 of 1|port alfred\n",
      "Processing Record 36 of 1|elat\n",
      "Processing Record 37 of 1|banda aceh\n",
      "Processing Record 38 of 1|lac du bonnet\n",
      "Processing Record 39 of 1|beinamar\n",
      "Processing Record 40 of 1|vaini\n",
      "Processing Record 41 of 1|kapaa\n",
      "Processing Record 42 of 1|berlevag\n",
      "Processing Record 43 of 1|cururupu\n",
      "Processing Record 44 of 1|castro\n",
      "Processing Record 45 of 1|caravelas\n",
      "Processing Record 46 of 1|tongzi\n",
      "Processing Record 47 of 1|vagur\n",
      "Processing Record 48 of 1|bredasdorp\n",
      "Processing Record 49 of 1|mar del plata\n",
      "Processing Record 0 of 2|east london\n",
      "City not found. Skipping...\n",
      "Processing Record 2 of 2|punta arenas\n",
      "Processing Record 3 of 2|san pedro\n",
      "Processing Record 4 of 2|wukari\n",
      "Processing Record 5 of 2|dikson\n",
      "Processing Record 6 of 2|ferme-neuve\n",
      "City not found. Skipping...\n",
      "Processing Record 8 of 2|touros\n",
      "Processing Record 9 of 2|itarema\n",
      "Processing Record 10 of 2|cidreira\n",
      "Processing Record 11 of 2|margate\n",
      "Processing Record 12 of 2|taoudenni\n"
     ]
    }
   ],
   "source": [
    "# Print things at start of loop \n",
    "print(\"Beginning Data Retrieval\")\n",
    "print(\"------------------------------\")\n",
    "#Make loop for going trough cities \n",
    "\n",
    "for one_city in cities: \n",
    " \n",
    "    #Add exceptions in loop to avoid it stopping from missing city values \n",
    "    try:\n",
    "        \n",
    "    #query_url= f'{url}{one_city}&appid={w_key}&units={units}'\n",
    "        query_url =url + one_city + \"&appid=\" + w_key +\"&units=imperial\"\n",
    "        response = requests.get(query_url).json()\n",
    "    \n",
    "    \n",
    "        city_count = city_count + 1\n",
    "    #Append data series loop through cities will be used    \n",
    "        all_cities.append(one_city)\n",
    "        lat.append(response[\"coord\"][\"lat\"])\n",
    "        lng.append(response[\"coord\"][\"lon\"])\n",
    "        temp_max.append(response[\"main\"][\"temp_max\"])\n",
    "        humidity.append(response[\"main\"][\"humidity\"])\n",
    "        cloudiness.append(response[\"clouds\"][\"all\"])\n",
    "        wind_speed.append(response[\"wind\"][\"speed\"])\n",
    "        country.append(response[\"sys\"][\"country\"])\n",
    "        date.append(response[\"dt\"])\n",
    "        \n",
    "        if city_count > 49: \n",
    "            set_count += 1 \n",
    "            city_count = 0 \n",
    "        \n",
    "        print(f'Processing Record {city_count} of {set_count}|{one_city}')\n",
    "    \n",
    "    except(KeyError, IndexError):\n",
    "        print(\"City not found. Skipping...\")\n",
    "\n",
    "#Add intervals between queries to stay within API limits \n",
    "        time.sleep(2)\n",
    "\n",
    "\n",
    "\n",
    "#Data retrieval is complete so announce it\n",
    "print(\"----------------------------\")\n",
    "print(\"Data Retrieval Complete\")\n",
    "print(\"----------------------------\")"
   ]
  },
  {
   "cell_type": "markdown",
   "metadata": {},
   "source": [
    "# Convert Raw Data to DataFrame\n",
    "\n",
    "Export the city data into a .csv.Display the DataFrame"
   ]
  },
  {
   "cell_type": "code",
   "execution_count": null,
   "metadata": {},
   "outputs": [],
   "source": [
    "#Convert to pandas DataFrame (code from class)\n",
    "weather_dict = {\n",
    "    \"City\":all_cities,\n",
    "    \"Lat\": lat, \n",
    "    \"Lng\": lng,\n",
    "    \"Max Temp\": temp_max,\n",
    "    \"Humidity\" : humidity,\n",
    "    \"Cloudiness\": cloudiness,\n",
    "    \"Wind Speed\": wind_speed,\n",
    "    \"Country\": country, \n",
    "    \"Date\":date\n",
    "}\n",
    "weather_df = pd.DataFrame(weather_dict)\n",
    "weather_df.head()"
   ]
  },
  {
   "cell_type": "markdown",
   "metadata": {},
   "source": [
    "Inspect the data and remove the cities where the humidity > 100%."
   ]
  },
  {
   "cell_type": "code",
   "execution_count": null,
   "metadata": {},
   "outputs": [],
   "source": [
    " #  Get the indices of cities that have humidity over 100%."
   ]
  },
  {
   "cell_type": "code",
   "execution_count": null,
   "metadata": {},
   "outputs": [],
   "source": [
    "Int64Index([], dtype='int64')"
   ]
  },
  {
   "cell_type": "code",
   "execution_count": null,
   "metadata": {},
   "outputs": [],
   "source": [
    " # Make a new DataFrame equal to the city data to drop all humidity outliers by index.\n",
    "# Passing \"inplace=False\" will make a copy of the city_data DataFrame, which we call \"clean_city_data\"."
   ]
  },
  {
   "cell_type": "markdown",
   "metadata": {},
   "source": [
    "# Plotting the Data\n",
    "\n",
    "Use proper labeling of the plots using plot titles (including date of analysis) and axes labels.Save the plotted figures as .pngs."
   ]
  },
  {
   "cell_type": "markdown",
   "metadata": {},
   "source": [
    "### Latitude vs. Temperature Plot"
   ]
  },
  {
   "cell_type": "code",
   "execution_count": null,
   "metadata": {},
   "outputs": [],
   "source": []
  },
  {
   "cell_type": "markdown",
   "metadata": {},
   "source": [
    "### Latitude vs. Humidity Plot"
   ]
  },
  {
   "cell_type": "code",
   "execution_count": null,
   "metadata": {},
   "outputs": [],
   "source": []
  },
  {
   "cell_type": "markdown",
   "metadata": {},
   "source": [
    "### Latitude vs. Cloudiness Plot"
   ]
  },
  {
   "cell_type": "code",
   "execution_count": null,
   "metadata": {},
   "outputs": [],
   "source": []
  },
  {
   "cell_type": "markdown",
   "metadata": {},
   "source": [
    "### Latitude vs. Wind Speed Plot"
   ]
  },
  {
   "cell_type": "code",
   "execution_count": null,
   "metadata": {},
   "outputs": [],
   "source": []
  },
  {
   "cell_type": "markdown",
   "metadata": {},
   "source": [
    "## Linear Regression"
   ]
  },
  {
   "cell_type": "code",
   "execution_count": null,
   "metadata": {},
   "outputs": [],
   "source": []
  },
  {
   "cell_type": "markdown",
   "metadata": {},
   "source": [
    "#### Northern Hemisphere - Max Temp vs. Latitude Linear Regression"
   ]
  },
  {
   "cell_type": "code",
   "execution_count": null,
   "metadata": {},
   "outputs": [],
   "source": []
  },
  {
   "cell_type": "markdown",
   "metadata": {},
   "source": [
    "#### Southern Hemisphere - Max Temp vs. Latitude Linear Regression"
   ]
  },
  {
   "cell_type": "code",
   "execution_count": null,
   "metadata": {},
   "outputs": [],
   "source": []
  },
  {
   "cell_type": "markdown",
   "metadata": {},
   "source": [
    "#### Northern Hemisphere - Humidity (%) vs. Latitude Linear Regression"
   ]
  },
  {
   "cell_type": "code",
   "execution_count": null,
   "metadata": {},
   "outputs": [],
   "source": []
  },
  {
   "cell_type": "markdown",
   "metadata": {},
   "source": [
    "#### Southern Hemisphere - Humidity (%) vs. Latitude Linear Regression"
   ]
  },
  {
   "cell_type": "code",
   "execution_count": null,
   "metadata": {},
   "outputs": [],
   "source": []
  },
  {
   "cell_type": "markdown",
   "metadata": {},
   "source": [
    "#### Northern Hemisphere - Cloudiness (%) vs. Latitude Linear Regression"
   ]
  },
  {
   "cell_type": "code",
   "execution_count": null,
   "metadata": {},
   "outputs": [],
   "source": []
  },
  {
   "cell_type": "markdown",
   "metadata": {},
   "source": [
    "#### Southern Hemisphere - Cloudiness (%) vs. Latitude Linear Regression"
   ]
  },
  {
   "cell_type": "code",
   "execution_count": null,
   "metadata": {},
   "outputs": [],
   "source": []
  },
  {
   "cell_type": "markdown",
   "metadata": {},
   "source": [
    "#### Northern Hemisphere - Wind Speed (mph) vs. Latitude Linear Regression"
   ]
  },
  {
   "cell_type": "code",
   "execution_count": null,
   "metadata": {},
   "outputs": [],
   "source": []
  },
  {
   "cell_type": "markdown",
   "metadata": {},
   "source": [
    "#### Southern Hemisphere - Wind Speed (mph) vs. Latitude Linear Regression"
   ]
  },
  {
   "cell_type": "code",
   "execution_count": null,
   "metadata": {},
   "outputs": [],
   "source": []
  }
 ],
 "metadata": {
  "kernelspec": {
   "display_name": "Python 3",
   "language": "python",
   "name": "python3"
  },
  "language_info": {
   "codemirror_mode": {
    "name": "ipython",
    "version": 3
   },
   "file_extension": ".py",
   "mimetype": "text/x-python",
   "name": "python",
   "nbconvert_exporter": "python",
   "pygments_lexer": "ipython3",
   "version": "3.8.5"
  }
 },
 "nbformat": 4,
 "nbformat_minor": 4
}
