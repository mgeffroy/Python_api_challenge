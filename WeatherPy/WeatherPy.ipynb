{
 "cells": [
  {
   "cell_type": "code",
   "execution_count": 1,
   "metadata": {},
   "outputs": [],
   "source": [
    "# Import dependencies and Setup\n",
    "import matplotlib.pyplot as plt\n",
    "import csv\n",
    "import pandas as pd\n",
    "import numpy as np\n",
    "import requests\n",
    "import time\n",
    "from scipy.stats import linregress\n",
    "from pprint import pprint\n",
    "\n",
    "# Import API key\n",
    "from api_keys import w_key\n",
    "\n",
    "# Incorporated citipy to determine city based on latitude and longitude\n",
    "from citipy import citipy\n",
    "\n",
    "# Output File (CSV)\n",
    "output_data_file = \"output/cities.csv\"\n",
    "\n",
    "# Range of latitudes and longitudes\n",
    "lat_range = (-90, 90)\n",
    "lng_range = (-180, 180)\n"
   ]
  },
  {
   "cell_type": "markdown",
   "metadata": {},
   "source": [
    "# Generate cities list"
   ]
  },
  {
   "cell_type": "code",
   "execution_count": 2,
   "metadata": {},
   "outputs": [
    {
     "data": {
      "text/plain": [
       "600"
      ]
     },
     "execution_count": 2,
     "metadata": {},
     "output_type": "execute_result"
    }
   ],
   "source": [
    "# List for holding lat_lngs and cities\n",
    "lat_lngs = []\n",
    "cities = []\n",
    "\n",
    "# Create a set of random lat and lng combinations\n",
    "lats = np.random.uniform(lat_range[0], lat_range[1], size=1500)\n",
    "lngs = np.random.uniform(lng_range[0], lng_range[1], size=1500)\n",
    "lat_lngs = zip(lats, lngs)\n",
    "\n",
    "# Identify nearest city for each lat, lng combination\n",
    "for lat_lng in lat_lngs:\n",
    "    city = citipy.nearest_city(lat_lng[0], lat_lng[1]).city_name\n",
    "    \n",
    "    # If the city is unique, then add it to a our cities list\n",
    "    if city not in cities:\n",
    "        cities.append(city)\n",
    "\n",
    "# Print the city count to confirm sufficient count\n",
    "len(cities)"
   ]
  },
  {
   "cell_type": "code",
   "execution_count": 3,
   "metadata": {},
   "outputs": [],
   "source": [
    "#Get API url \n",
    "url = \"http://api.openweathermap.org/data/2.5/weather?q=\"\n",
    "    \n",
    "    \n",
    "#See list of cities to get information and lists\n",
    "#cities \n",
    "\n",
    "#Chose Cape Town to see other columns\n",
    "#response = requests.get(url + \"cape town\" + \"&appid=\" + w_key)\n",
    "#w_city_d = response.json()\n",
    "#pprint(w_city_d)"
   ]
  },
  {
   "cell_type": "markdown",
   "metadata": {},
   "source": [
    "# Perform API Calls\n",
    "\n",
    "Perform a weather check on each city using a series of successive API calls. Include a print log of each city as it's being processed (with the city number and city name)."
   ]
  },
  {
   "cell_type": "code",
   "execution_count": 4,
   "metadata": {},
   "outputs": [],
   "source": [
    "#Temperature is in Kelvins so change the unit of measurement to F°\n",
    "units = \"imperial\"\n",
    "#Create lists for variables needed\n",
    "all_cities = []\n",
    "lat=[]\n",
    "lng=[]\n",
    "temp_max=[]\n",
    "humidity=[]\n",
    "cloudiness=[]\n",
    "wind_speed=[]\n",
    "country=[]\n",
    "date=[]\n",
    "\n",
    "#Create a counter for sucessive API calls\n",
    "city_count = 0\n",
    "set_count = 1"
   ]
  },
  {
   "cell_type": "code",
   "execution_count": null,
   "metadata": {},
   "outputs": [
    {
     "name": "stdout",
     "output_type": "stream",
     "text": [
      "Beginning Data Retrieval\n",
      "------------------------------\n",
      "Processing Record 13 of 1|wexford\n",
      "Processing Record 14 of 1|lebu\n",
      "Processing Record 15 of 1|saint-philippe\n",
      "Processing Record 16 of 1|katsuura\n",
      "Processing Record 17 of 1|punta arenas\n",
      "Processing Record 18 of 1|chuy\n",
      "City not found. Skipping...\n",
      "City not found. Skipping...\n",
      "Processing Record 21 of 1|paulo afonso\n",
      "Processing Record 22 of 1|hilo\n",
      "Processing Record 23 of 1|kapaa\n",
      "Processing Record 24 of 1|severo-kurilsk\n",
      "City not found. Skipping...\n",
      "Processing Record 26 of 1|bayeux\n",
      "Processing Record 27 of 1|new norfolk\n",
      "City not found. Skipping...\n",
      "Processing Record 29 of 1|provideniya\n",
      "Processing Record 30 of 1|port elizabeth\n",
      "Processing Record 31 of 1|ushuaia\n",
      "Processing Record 32 of 1|mataura\n",
      "Processing Record 33 of 1|cockburn town\n",
      "Processing Record 34 of 1|esso\n",
      "Processing Record 35 of 1|ruda nad moravou\n",
      "Processing Record 36 of 1|albany\n",
      "Processing Record 37 of 1|san vicente\n",
      "Processing Record 38 of 1|atuona\n",
      "Processing Record 39 of 1|hobart\n",
      "City not found. Skipping...\n",
      "Processing Record 41 of 1|georgetown\n",
      "Processing Record 42 of 1|hermanus\n",
      "Processing Record 43 of 1|bluff\n",
      "Processing Record 44 of 1|vacha\n",
      "Processing Record 45 of 1|busselton\n",
      "Processing Record 46 of 1|mayenne\n",
      "Processing Record 47 of 1|bethel\n",
      "City not found. Skipping...\n",
      "Processing Record 49 of 1|port alfred\n",
      "Processing Record 50 of 1|rikitea\n",
      "Processing Record 51 of 1|feijo\n",
      "Processing Record 52 of 1|ovre ardal\n",
      "Processing Record 53 of 1|kodiak\n",
      "City not found. Skipping...\n",
      "Processing Record 55 of 1|pokhara\n",
      "Processing Record 56 of 1|lithakia\n",
      "Processing Record 57 of 1|ponta do sol\n",
      "Processing Record 58 of 1|dalmatovo\n",
      "Processing Record 59 of 1|kobelyaky\n",
      "Processing Record 60 of 1|vaini\n",
      "Processing Record 61 of 1|hobyo\n",
      "Processing Record 62 of 1|cape town\n",
      "Processing Record 63 of 1|alghero\n",
      "Processing Record 64 of 1|turukhansk\n",
      "Processing Record 65 of 1|back mountain\n",
      "Processing Record 66 of 1|neryungri\n",
      "Processing Record 67 of 1|la curva\n",
      "Processing Record 68 of 1|kruisfontein\n",
      "Processing Record 69 of 1|benguela\n",
      "Processing Record 70 of 1|qaanaaq\n",
      "Processing Record 71 of 1|nome\n",
      "Processing Record 72 of 1|abashiri\n",
      "Processing Record 73 of 1|bambanglipuro\n",
      "Processing Record 74 of 1|ponnani\n",
      "City not found. Skipping...\n",
      "Processing Record 76 of 1|longyearbyen\n",
      "Processing Record 77 of 1|santa rosa\n",
      "Processing Record 78 of 1|faanui\n",
      "Processing Record 79 of 1|fairbanks\n",
      "Processing Record 80 of 1|cherskiy\n",
      "Processing Record 81 of 1|saldanha\n",
      "Processing Record 82 of 1|popondetta\n",
      "Processing Record 83 of 1|nikolskoye\n",
      "Processing Record 84 of 1|tuktoyaktuk\n",
      "Processing Record 85 of 1|port blair\n",
      "Processing Record 86 of 1|yellowknife\n",
      "Processing Record 87 of 1|komsomolskiy\n",
      "Processing Record 88 of 1|nouadhibou\n",
      "Processing Record 89 of 1|shelburne\n",
      "Processing Record 90 of 1|muhos\n",
      "Processing Record 91 of 1|olafsvik\n",
      "Processing Record 92 of 1|severo-yeniseyskiy\n",
      "Processing Record 93 of 1|deputatskiy\n",
      "Processing Record 94 of 1|chokurdakh\n",
      "Processing Record 95 of 1|isangel\n",
      "Processing Record 96 of 1|hokitika\n",
      "Processing Record 97 of 1|nanortalik\n",
      "Processing Record 98 of 1|sitka\n",
      "Processing Record 99 of 1|buin\n",
      "Processing Record 100 of 1|arraial do cabo\n",
      "Processing Record 101 of 1|khatanga\n",
      "Processing Record 102 of 1|butaritari\n",
      "Processing Record 103 of 1|half moon bay\n",
      "Processing Record 104 of 1|kavieng\n",
      "Processing Record 105 of 1|barrow\n",
      "Processing Record 106 of 1|lamu\n",
      "Processing Record 107 of 1|coahuayana\n",
      "Processing Record 108 of 1|saint anthony\n",
      "Processing Record 109 of 1|merrill\n",
      "Processing Record 110 of 1|tual\n",
      "Processing Record 111 of 1|sao filipe\n",
      "Processing Record 112 of 1|mahebourg\n",
      "Processing Record 113 of 1|yarmouth\n",
      "Processing Record 114 of 1|bundaberg\n",
      "Processing Record 115 of 1|nanakuli\n",
      "Processing Record 116 of 1|hasaki\n"
     ]
    }
   ],
   "source": [
    "# Print things at start of loop \n",
    "print(\"Beginning Data Retrieval\")\n",
    "print(\"------------------------------\")\n",
    "#Make loop for going trough cities \n",
    "\n",
    "for index, one_city in enumerate(cities, start = 1 ): \n",
    " \n",
    "    #Add exceptions in loop to avoid it stopping from missing city values \n",
    "    try:\n",
    "        \n",
    "    #query_url= f'{url}{one_city}&appid={w_key}&units={units}'\n",
    "        query_url =url + one_city + \"&appid=\" + w_key +\"&units=imperial\"\n",
    "        response = requests.get(query_url).json()\n",
    "    \n",
    "    \n",
    "        city_count = city_count + 1\n",
    "    #Append data series loop through cities will be used    \n",
    "        all_cities.append(one_city)\n",
    "        lat.append(response[\"coord\"][\"lat\"])\n",
    "        lng.append(response[\"coord\"][\"lon\"])\n",
    "        temp_max.append(response[\"main\"][\"temp_max\"])\n",
    "        humidity.append(response[\"main\"][\"humidity\"])\n",
    "        cloudiness.append(response[\"clouds\"][\"all\"])\n",
    "        wind_speed.append(response[\"wind\"][\"speed\"])\n",
    "        country.append(response[\"sys\"][\"country\"])\n",
    "        date.append(response[\"dt\"])\n",
    "        print(f'Processing Record {city_count} of {set_count}|{one_city}')\n",
    "    \n",
    "    except(KeyError, IndexError):\n",
    "        print(\"City not found. Skipping...\")\n",
    "\n",
    "#Add intervals between queries to stay within API limits \n",
    "        time.sleep(2)\n",
    "\n",
    "\n",
    "\n",
    "#Data retrieval is complete so announce it\n",
    "print(\"----------------------------\")\n",
    "print(\"Data Retrieval Complete\")\n",
    "print(\"----------------------------\")"
   ]
  },
  {
   "cell_type": "markdown",
   "metadata": {},
   "source": [
    "# Convert Raw Data to DataFrame\n",
    "\n",
    "Export the city data into a .csv.Display the DataFrame"
   ]
  },
  {
   "cell_type": "code",
   "execution_count": null,
   "metadata": {},
   "outputs": [],
   "source": [
    "#Convert to pandas DataFrame (code from class)\n",
    "weather_dict = {\n",
    "    \"city\": cities,\n",
    "    \"lat\": lat,\n",
    "    \"temp\": temp\n",
    "}\n",
    "weather_data = pd.DataFrame(weather_dict)\n",
    "weather_data.head()"
   ]
  },
  {
   "cell_type": "markdown",
   "metadata": {},
   "source": [
    "Inspect the data and remove the cities where the humidity > 100%."
   ]
  },
  {
   "cell_type": "code",
   "execution_count": null,
   "metadata": {},
   "outputs": [],
   "source": [
    " #  Get the indices of cities that have humidity over 100%."
   ]
  },
  {
   "cell_type": "code",
   "execution_count": null,
   "metadata": {},
   "outputs": [],
   "source": [
    "Int64Index([], dtype='int64')"
   ]
  },
  {
   "cell_type": "code",
   "execution_count": null,
   "metadata": {},
   "outputs": [],
   "source": [
    " # Make a new DataFrame equal to the city data to drop all humidity outliers by index.\n",
    "# Passing \"inplace=False\" will make a copy of the city_data DataFrame, which we call \"clean_city_data\"."
   ]
  },
  {
   "cell_type": "markdown",
   "metadata": {},
   "source": [
    "# Plotting the Data\n",
    "\n",
    "Use proper labeling of the plots using plot titles (including date of analysis) and axes labels.Save the plotted figures as .pngs."
   ]
  },
  {
   "cell_type": "markdown",
   "metadata": {},
   "source": [
    "### Latitude vs. Temperature Plot"
   ]
  },
  {
   "cell_type": "code",
   "execution_count": null,
   "metadata": {},
   "outputs": [],
   "source": []
  },
  {
   "cell_type": "markdown",
   "metadata": {},
   "source": [
    "### Latitude vs. Humidity Plot"
   ]
  },
  {
   "cell_type": "code",
   "execution_count": null,
   "metadata": {},
   "outputs": [],
   "source": []
  },
  {
   "cell_type": "markdown",
   "metadata": {},
   "source": [
    "### Latitude vs. Cloudiness Plot"
   ]
  },
  {
   "cell_type": "code",
   "execution_count": null,
   "metadata": {},
   "outputs": [],
   "source": []
  },
  {
   "cell_type": "markdown",
   "metadata": {},
   "source": [
    "### Latitude vs. Wind Speed Plot"
   ]
  },
  {
   "cell_type": "code",
   "execution_count": null,
   "metadata": {},
   "outputs": [],
   "source": []
  },
  {
   "cell_type": "markdown",
   "metadata": {},
   "source": [
    "## Linear Regression"
   ]
  },
  {
   "cell_type": "code",
   "execution_count": null,
   "metadata": {},
   "outputs": [],
   "source": []
  },
  {
   "cell_type": "markdown",
   "metadata": {},
   "source": [
    "#### Northern Hemisphere - Max Temp vs. Latitude Linear Regression"
   ]
  },
  {
   "cell_type": "code",
   "execution_count": null,
   "metadata": {},
   "outputs": [],
   "source": []
  },
  {
   "cell_type": "markdown",
   "metadata": {},
   "source": [
    "#### Southern Hemisphere - Max Temp vs. Latitude Linear Regression"
   ]
  },
  {
   "cell_type": "code",
   "execution_count": null,
   "metadata": {},
   "outputs": [],
   "source": []
  },
  {
   "cell_type": "markdown",
   "metadata": {},
   "source": [
    "#### Northern Hemisphere - Humidity (%) vs. Latitude Linear Regression"
   ]
  },
  {
   "cell_type": "code",
   "execution_count": null,
   "metadata": {},
   "outputs": [],
   "source": []
  },
  {
   "cell_type": "markdown",
   "metadata": {},
   "source": [
    "#### Southern Hemisphere - Humidity (%) vs. Latitude Linear Regression"
   ]
  },
  {
   "cell_type": "code",
   "execution_count": null,
   "metadata": {},
   "outputs": [],
   "source": []
  },
  {
   "cell_type": "markdown",
   "metadata": {},
   "source": [
    "#### Northern Hemisphere - Cloudiness (%) vs. Latitude Linear Regression"
   ]
  },
  {
   "cell_type": "code",
   "execution_count": null,
   "metadata": {},
   "outputs": [],
   "source": []
  },
  {
   "cell_type": "markdown",
   "metadata": {},
   "source": [
    "#### Southern Hemisphere - Cloudiness (%) vs. Latitude Linear Regression"
   ]
  },
  {
   "cell_type": "code",
   "execution_count": null,
   "metadata": {},
   "outputs": [],
   "source": []
  },
  {
   "cell_type": "markdown",
   "metadata": {},
   "source": [
    "#### Northern Hemisphere - Wind Speed (mph) vs. Latitude Linear Regression"
   ]
  },
  {
   "cell_type": "code",
   "execution_count": null,
   "metadata": {},
   "outputs": [],
   "source": []
  },
  {
   "cell_type": "markdown",
   "metadata": {},
   "source": [
    "#### Southern Hemisphere - Wind Speed (mph) vs. Latitude Linear Regression"
   ]
  },
  {
   "cell_type": "code",
   "execution_count": null,
   "metadata": {},
   "outputs": [],
   "source": []
  }
 ],
 "metadata": {
  "kernelspec": {
   "display_name": "Python 3",
   "language": "python",
   "name": "python3"
  },
  "language_info": {
   "codemirror_mode": {
    "name": "ipython",
    "version": 3
   },
   "file_extension": ".py",
   "mimetype": "text/x-python",
   "name": "python",
   "nbconvert_exporter": "python",
   "pygments_lexer": "ipython3",
   "version": "3.8.5"
  }
 },
 "nbformat": 4,
 "nbformat_minor": 4
}
